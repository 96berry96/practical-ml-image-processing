{
 "cells": [
  {
   "cell_type": "code",
   "execution_count": 32,
   "metadata": {},
   "outputs": [],
   "source": [
    "test_img_path = \"camera_cal/calibration1.jpg\""
   ]
  },
  {
   "cell_type": "code",
   "execution_count": 34,
   "metadata": {},
   "outputs": [],
   "source": [
    "import cv2\n",
    "import matplotlib.image as mpimg\n",
    "img = mpimg.imread(test_img_path)"
   ]
  },
  {
   "cell_type": "code",
   "execution_count": 36,
   "metadata": {},
   "outputs": [],
   "source": [
    "img_size =(img.shape[1], img.shape[0])"
   ]
  },
  {
   "cell_type": "code",
   "execution_count": 45,
   "metadata": {},
   "outputs": [],
   "source": [
    "def convert3D_to_2D(path, x, y):\n",
    "    rwp = np.zeros((y*x, 3), np.float32) #creates zeroes matrix having 54 rows and 3 columns\n",
    "    tmp = np.mgrid[0:x, 0:y].T.reshape(-1, 2) #creates a grid having 6 columns and 9 rows, while each row incrementing by 1 starting from 0 to 9. It then transposes and then converts to 54 rows and 2 columns\n",
    "    rwp[:,:2] = tmp #changing the first two points based upon above matrix\n",
    "    \n",
    "    rwpoints = [] # 3d points in real world space\n",
    "    imgpoints = [] # 2d points in image plane.\n",
    "    \n",
    "    images = glob.glob(path) #read calibration images\n",
    "\n",
    "    for fname in images: #finding chessboard corners\n",
    "        img = cv2.imread(fname)\n",
    "        gray = cv2.cvtColor(img, cv2.COLOR_BGR2GRAY)\n",
    "\n",
    "        corner_found, corners = cv2.findChessboardCorners(gray, (x,y), None) #positions of internal corners of the chessboard\n",
    "\n",
    "        if corner_found == True:\n",
    "            rwpoints.append(rwp)\n",
    "            imgpoints.append(corners)\n",
    "\n",
    "            cv2.drawChessboardCorners(img, (x,y), corners, corner_found)\n",
    "\n",
    "    return (rwpoints, imgpoints)"
   ]
  },
  {
   "cell_type": "code",
   "execution_count": 46,
   "metadata": {},
   "outputs": [],
   "source": [
    "import numpy as np\n",
    "import glob\n",
    "import matplotlib.pyplot as plt\n",
    "import cv2\n",
    "import matplotlib.image as mpimg\n",
    "import pickle\n",
    "import random\n",
    "%matplotlib qt"
   ]
  },
  {
   "cell_type": "code",
   "execution_count": 47,
   "metadata": {},
   "outputs": [],
   "source": [
    "(objpoints, imgpoints) = convert3D_to_2D(\"camera_cal/calibration*.jpg\", 9,6)"
   ]
  },
  {
   "cell_type": "code",
   "execution_count": 50,
   "metadata": {},
   "outputs": [],
   "source": [
    "_, cm_mtx, dist_cf, rot_vecs, trns_vecs = cv2.calibrateCamera(objpoints, imgpoints, img_size, None, None)"
   ]
  },
  {
   "cell_type": "code",
   "execution_count": 52,
   "metadata": {},
   "outputs": [],
   "source": [
    "undst_img = cv2.undistort(img, mtx, dist, None, mtx)"
   ]
  },
  {
   "cell_type": "code",
   "execution_count": 55,
   "metadata": {},
   "outputs": [
    {
     "data": {
      "text/plain": [
       "<matplotlib.image.AxesImage at 0x1d46d13b160>"
      ]
     },
     "execution_count": 55,
     "metadata": {},
     "output_type": "execute_result"
    }
   ],
   "source": [
    "f, (ax1, ax2) = plt.subplots(1, 2, figsize=(20, 10))\n",
    "ax1.imshow(img)\n",
    "ax2.imshow(undst_img)"
   ]
  },
  {
   "cell_type": "code",
   "execution_count": null,
   "metadata": {},
   "outputs": [],
   "source": []
  }
 ],
 "metadata": {
  "kernelspec": {
   "display_name": "Python 3",
   "language": "python",
   "name": "python3"
  },
  "language_info": {
   "codemirror_mode": {
    "name": "ipython",
    "version": 3
   },
   "file_extension": ".py",
   "mimetype": "text/x-python",
   "name": "python",
   "nbconvert_exporter": "python",
   "pygments_lexer": "ipython3",
   "version": "3.6.5"
  }
 },
 "nbformat": 4,
 "nbformat_minor": 2
}
